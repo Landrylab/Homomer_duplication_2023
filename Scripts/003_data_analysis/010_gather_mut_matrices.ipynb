{
 "cells": [
  {
   "cell_type": "markdown",
   "metadata": {},
   "source": [
    "# Gather mutation matrices\n",
    "\n",
    "This script will look at the matrices of mutational effects and gather them in a single file so that they are usable directly in R"
   ]
  },
  {
   "cell_type": "code",
   "execution_count": 1,
   "metadata": {
    "collapsed": true
   },
   "outputs": [],
   "source": [
    "# Load libraries\n",
    "import numpy as np\n",
    "import pandas as pd\n",
    "import csv\n",
    "import os\n",
    "import glob\n",
    "import re"
   ]
  },
  {
   "cell_type": "code",
   "execution_count": 2,
   "metadata": {
    "collapsed": true
   },
   "outputs": [],
   "source": [
    "## Define a path to the main folder\n",
    "main_folder = <path_to_main_folder>"
   ]
  },
  {
   "cell_type": "code",
   "execution_count": 3,
   "metadata": {
    "collapsed": true,
    "scrolled": true
   },
   "outputs": [],
   "source": [
    "### Define the name of the output file\n",
    "## Need to solve issue with permissions\n",
    "out_file = os.path.join(main_folder, 'all_mut_matrices.tsv')\n",
    "\n",
    "header = ['Chain', 'WT_res', 'Position', 'Mut_res', 'Mean_ddG_stab_HET', \n",
    "          'Mean_ddG_stab_HM', 'Mean_ddG_int_HET', 'Mean_ddG_int_HM', 'Complex']\n",
    "\n",
    "## Open the output file\n",
    "with open(out_file, 'w') as out_file_handle:\n",
    "    writer_handle = csv.writer(out_file_handle, delimiter = '\\t')\n",
    "    \n",
    "    writer_handle.writerow(header)\n",
    "    \n",
    "    ## Loop through all the mutational matrices\n",
    "    structure_list = glob.glob(os.path.join(main_folder, 'final_mat_*'))\n",
    "    \n",
    "    for structure_file in structure_list:\n",
    "        ## Save the structure ID\n",
    "        structure_ID = re.search(pattern = '_([a-z0-9]+).txt', string = os.path.basename(structure_file)).group(1)\n",
    "    \n",
    "        ## Load the data\n",
    "        # infile_path = os.path.join(condition, str(rep_number), 'results.txt')\n",
    "        file_handle = csv.reader(open(structure_file, 'r'), delimiter = '\\t')\n",
    "\n",
    "        ## Loop through the lines in the file\n",
    "        for line in file_handle:\n",
    "            ## Skip the header\n",
    "            if line[0] == 'Chain':\n",
    "                continue\n",
    "\n",
    "            ## Distinguish the three cases I have\n",
    "            if structure_ID == '1p6o':\n",
    "                ## Add columns for starting conditions and for the complex\n",
    "                line.append(structure_ID)\n",
    "\n",
    "                ## Write to file\n",
    "                writer_handle.writerow(line)\n",
    "            else:\n",
    "                ## Separate the WT residue and the position\n",
    "                WT_res = line[1][0]\n",
    "                mut_pos = line[1][1:]\n",
    "                \n",
    "                line = [line[0], WT_res, mut_pos] + line[2:]\n",
    "                \n",
    "                if structure_ID == '1m38' or structure_ID == '4fgw':\n",
    "                    # Remove the final column\n",
    "                    line = line[0:-1]\n",
    "                \n",
    "                ## Add columns for starting conditions and for the complex\n",
    "                line.append(structure_ID)\n",
    "\n",
    "                ## Write to file\n",
    "                writer_handle.writerow(line)\n",
    "\n",
    "\n",
    "            ## End loop for lines\n",
    "                    \n",
    "        ## End loop for structures"
   ]
  },
  {
   "cell_type": "code",
   "execution_count": null,
   "metadata": {
    "collapsed": true
   },
   "outputs": [],
   "source": []
  },
  {
   "cell_type": "code",
   "execution_count": null,
   "metadata": {
    "collapsed": true
   },
   "outputs": [],
   "source": []
  },
  {
   "cell_type": "code",
   "execution_count": null,
   "metadata": {
    "collapsed": true
   },
   "outputs": [],
   "source": []
  },
  {
   "cell_type": "code",
   "execution_count": null,
   "metadata": {
    "collapsed": true
   },
   "outputs": [],
   "source": []
  }
 ],
 "metadata": {
  "kernelspec": {
   "display_name": "python3.8",
   "language": "python",
   "name": "python3.8"
  },
  "language_info": {
   "codemirror_mode": {
    "name": "ipython",
    "version": 3
   },
   "file_extension": ".py",
   "mimetype": "text/x-python",
   "name": "python",
   "nbconvert_exporter": "python",
   "pygments_lexer": "ipython3",
   "version": "3.8.5"
  }
 },
 "nbformat": 4,
 "nbformat_minor": 4
}
