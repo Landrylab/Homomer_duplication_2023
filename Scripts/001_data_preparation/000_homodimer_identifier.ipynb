{
 "cells": [
  {
   "cell_type": "markdown",
   "metadata": {},
   "source": [
    "# Homodimer identifier\n",
    "\n",
    "This script goes through a folder of PDB files and saves suitable homodimers for the simulations. Criteria used to select homodimers:\n",
    "- Author assigned biological unit should be \"DIMERIC\"\n",
    "- Experimental data must be crystal structure\n",
    "- The two subunits in the file should be identical:\n",
    "    - Take the sequences of the subunits from the SEQRES records and check if they are identical (missing residues still appear here)\n",
    "    - If the biological unit is a dimer but the file only contains one subunit, check if the second one is derived from transformations (REMARK 350).\n",
    "    - Check missing residues section. If the two subunits have different missing residues, discard structure.\n",
    "    \n",
    "    \n",
    "The output will be the folder with the filtered structures and a table mentioning the biological assembly that should be generated for each of them.\n",
    "    \n",
    "These parameters could also be modified to identify other kinds of complexes\n"
   ]
  },
  {
   "cell_type": "code",
   "execution_count": 1,
   "metadata": {
    "collapsed": true
   },
   "outputs": [],
   "source": [
    "# Load libraries\n",
    "import glob\n",
    "import os\n",
    "import re\n",
    "from collections import OrderedDict\n",
    "import shutil\n",
    "import numpy as np\n",
    "import pandas as pd\n",
    "from Bio.PDB import PDBParser\n",
    "from Bio import SeqIO\n",
    "\n"
   ]
  },
  {
   "cell_type": "code",
   "execution_count": 4,
   "metadata": {
    "collapsed": true
   },
   "outputs": [],
   "source": [
    "# Define a function to parse pdb lines more easily\n",
    "def parse_pdb_line(pdb_line):\n",
    "    '''This function will receive a line from a PDB file and parse it as a list. It will do so based on the\n",
    "    PDB format explanation from this site:\n",
    "\n",
    "    https://www.cgl.ucsf.edu/chimera/docs/UsersGuide/tutorials/pdbintro.html.\n",
    "    '''\n",
    "    atom = pdb_line[0:4].strip(' ')\n",
    "    atom_num = pdb_line[6:11].strip(' ')\n",
    "    atom_name = pdb_line[12:16].strip(' ')\n",
    "    resname = pdb_line[17:20].strip(' ')\n",
    "    chain = pdb_line[21]\n",
    "    res_num = pdb_line[22:26].strip(' ')\n",
    "    x = pdb_line[30:38].strip(' ')\n",
    "    y = pdb_line[38:46].strip(' ')\n",
    "    z = pdb_line[46:54].strip(' ')\n",
    "\n",
    "    return [atom, atom_num, atom_name, resname, chain, res_num, x, y, z]\n"
   ]
  },
  {
   "cell_type": "markdown",
   "metadata": {},
   "source": [
    "## Run on the whole PDB to find all possible homodimers"
   ]
  },
  {
   "cell_type": "code",
   "execution_count": 23,
   "metadata": {
    "collapsed": true
   },
   "outputs": [],
   "source": [
    "# Update the variables\n",
    "structure_type = 'DIMERIC'\n",
    "pdb_folder = '../../Data/PDB/All_structures'\n",
    "out_folder = '../../Data/PDB/Homodimers'\n",
    "\n",
    "aa_three2one = {\n",
    "    'ALA':'A', 'ARG':'R', 'ASN':'N', 'ASP':'D',\n",
    "    'CYS':'C', 'GLU':'E', 'GLN':'Q', 'GLY':'G', \n",
    "    'HIS':'H', 'ILE':'I', 'LEU':'L', 'LYS':'K',\n",
    "    'MET':'M', 'PHE':'F', 'PRO':'P', 'SER':'S',\n",
    "    'THR':'T', 'TRP':'W', 'TYR':'Y', 'VAL':'V'\n",
    "}\n",
    "\n",
    "# List all the pdb files in the folder\n",
    "pdb_files = glob.glob(os.path.join(pdb_folder, '*pdb'))"
   ]
  },
  {
   "cell_type": "code",
   "execution_count": 32,
   "metadata": {
    "collapsed": true,
    "scrolled": false
   },
   "outputs": [],
   "source": [
    "# Run the loop\n",
    "# Create the output dictionary if it does not exist\n",
    "if not os.path.exists(out_folder):\n",
    "    os.makedirs(out_folder)\n",
    "\n",
    "# A dictionary for storing the correct biological assembly for each file\n",
    "# One dictionary for all files, not reinitialized\n",
    "table_dict = OrderedDict()\n",
    "\n",
    "# Loop through the PDB files\n",
    "for pdb_file in pdb_files:\n",
    "\n",
    "    handle = open(pdb_file, 'r')\n",
    "\n",
    "    # This boolean will indicate if we have already seen the author determined biological assembly\n",
    "    # Updated for every file\n",
    "    bool_author = False\n",
    "\n",
    "    # A boolean confirming if this is a homodimer or not\n",
    "    # Updated for every file\n",
    "    bool_homodimer = False\n",
    "    \n",
    "    # Booleans to make sure it is a crystal structure and an adequate length\n",
    "    bool_length = False\n",
    "    bool_xtal = False\n",
    "    \n",
    "    # A dictionary for the sequences\n",
    "    # Updated for every file\n",
    "    seq_dict = {}\n",
    "\n",
    "    # A list for the number of biomolecular transformations that should be applied\n",
    "    # Updated for every file\n",
    "    biomt_list = []\n",
    "\n",
    "    # A dictionary for missing residues\n",
    "    # Updated for every file\n",
    "    misres_dict = OrderedDict()\n",
    "\n",
    "    for pdb_line in handle:\n",
    "\n",
    "        # Check the type of experimental data\n",
    "        if pdb_line.startswith('EXPDTA'):\n",
    "            # Two ifs make sure I am looking at the correct line when deciding to skip\n",
    "            if pdb_line.startswith('EXPDTA    X-RAY DIFFRACTION'):\n",
    "                bool_xtal = True\n",
    "            else:\n",
    "                # If this is not a crystal structure, skip this structure\n",
    "                break\n",
    "        \n",
    "        ## Get the author determined biological assembly and transformations to generate other subunits (REMARK 350)\n",
    "        if pdb_line.startswith('REMARK 350') and not bool_author:\n",
    "\n",
    "            # Save the biological assembly we are looking at\n",
    "            temp_bio = re.search(pattern = 'BIOMOLECULE:\\s+(\\d+)', string = pdb_line)\n",
    "\n",
    "            if temp_bio:\n",
    "                bio_assembly = temp_bio.group(1)\n",
    "\n",
    "            temp_struc = re.search(pattern = 'AUTHOR DETERMINED BIOLOGICAL UNIT:\\s+([A-Za-z]+)', string = pdb_line)\n",
    "\n",
    "            if temp_struc:\n",
    "                bio_struc_type = temp_struc.group(1)\n",
    "                bool_author = True\n",
    "\n",
    "        ## Check for transformations to generate other subunits once we have the author determined\n",
    "        ## biological assembly (REMARK 350)\n",
    "        if pdb_line.startswith('REMARK 350') and bool_author:\n",
    "            # Look for rows that contain BIOMT\n",
    "            if re.search(pattern = 'BIOMT\\d+', string = pdb_line):\n",
    "                biomt_line = re.split(pattern = '\\s+', string = pdb_line)\n",
    "                if not int(biomt_line[3]) in biomt_list:\n",
    "                    biomt_list.append(int(biomt_line[3]))\n",
    "\n",
    "\n",
    "        ## Get the sequence for the subunits from the SEQRES\n",
    "        if pdb_line.startswith('SEQRES'):\n",
    "            seqres_line = re.split(pattern = '\\s+', string = pdb_line)\n",
    "            subunit = seqres_line[2]\n",
    "\n",
    "            # Make sure this subunit is already in the dictionary\n",
    "            if seq_dict.get(subunit, -1) == -1:\n",
    "                seq_dict[subunit] = ''\n",
    "\n",
    "            for residue in seqres_line[4:]:\n",
    "                if residue != '':\n",
    "                    # Residue types have to be included in the list of amino acid types\n",
    "                    # This will remove structures containing nucleic acids and structures with modified\n",
    "                    # residues\n",
    "                    if aa_three2one.get(residue , -1) == -1:\n",
    "                        bool_homodimer = False\n",
    "                        continue\n",
    "                    else:\n",
    "                        seq_dict[subunit] = seq_dict[subunit] + aa_three2one[residue]\n",
    "\n",
    "        ## Check the missing residues (REMARK 465)\n",
    "        if pdb_line.startswith('REMARK 465'):\n",
    "            # Split by whitespace\n",
    "            misres_line = re.split(pattern = '\\s+', string = pdb_line)\n",
    "\n",
    "            # Check length equals 6 (considering the empty string at the last position)\n",
    "            if len(misres_line) == 6:\n",
    "                # Position 3 (0-based) is the chain\n",
    "                subunit_misres = misres_line[3]\n",
    "\n",
    "                if not subunit_misres in misres_dict.keys():\n",
    "                    misres_dict[subunit_misres] = []\n",
    "\n",
    "                # Save this residue to the list of missing residues for this chain\n",
    "                missing_residue = misres_line[2] + misres_line[4]\n",
    "                misres_dict[subunit_misres].append(missing_residue)\n",
    "\n",
    "    \n",
    "    ## Use all the data to determine if it is a homodimer\n",
    "    # If there is no author determined biological assembly, move on to the next structure\n",
    "    if not bool_author:\n",
    "        continue\n",
    "    \n",
    "    # Check if author determined assembly is a dimer\n",
    "    if bio_struc_type == structure_type:\n",
    "        # Check if there is only one subunit in the file from which the second one will be generated\n",
    "        if len(seq_dict.keys()) == 1 and max(biomt_list) == 2:\n",
    "            bool_homodimer = True\n",
    "\n",
    "        # Check if the two subunits in the file are identical\n",
    "        elif len(seq_dict.keys()) == 2 and list(seq_dict.values())[0] == list(seq_dict.values())[1]:\n",
    "            bool_homodimer = True\n",
    "\n",
    "            # Check if missing residues are the same for the two chains\n",
    "            if len(misres_dict.values()) == 2:\n",
    "                if list(misres_dict.values())[0] != list(misres_dict.values())[1]:\n",
    "                    bool_homodimer = False\n",
    "            # Missing residues are not the same for the two chains if there are only missing residues on one\n",
    "            # chain. \n",
    "            elif len(misres_dict.values()) == 1:\n",
    "                bool_homodimer = False\n",
    "\n",
    "\n",
    "    handle.close()\n",
    "\n",
    "    # Parse the pdb file\n",
    "    chain = {record.id: record.seq for record in SeqIO.parse(pdb_file, 'pdb-seqres')}\n",
    "    \n",
    "    # Handle structures like 1hya that only have HETATM, so no chains\n",
    "    if len(list(chain.keys())) > 0:\n",
    "        query_chain = chain[list(chain.keys())[0]]\n",
    "    else:\n",
    "        # Files with no chains can be discarded\n",
    "        continue\n",
    "\n",
    "    # Get the length of the chain\n",
    "    sequence_length = len(query_chain)\n",
    "    \n",
    "    if sequence_length > 60 and sequence_length < 450:\n",
    "        bool_length = True\n",
    "    \n",
    "    if bool_homodimer and bool_xtal and bool_length:\n",
    "        # Copy file to output directory\n",
    "        shutil.copy(pdb_file, out_folder)\n",
    "\n",
    "        # Add to a dictionary with the PDB files and the correct bio assembly for each\n",
    "        file_basename = os.path.splitext(os.path.basename(pdb_file))[0]\n",
    "        table_dict[file_basename] = [file_basename, bio_assembly, sequence_length]\n",
    "\n",
    "## After the loop\n",
    "# Convert the dictionary to a data frame and save as a table\n",
    "assembly_dataframe = pd.DataFrame.from_dict(table_dict, columns = ['Structure', 'Bio_assembly', 'Length'], orient = 'index')\n",
    "assembly_dataframe.to_csv(path_or_buf = os.path.join(out_folder, 'bio_assembly_table.txt'), index = False, \n",
    "                          sep = '\\t')"
   ]
  },
  {
   "cell_type": "code",
   "execution_count": 33,
   "metadata": {},
   "outputs": [
    {
     "data": {
      "text/plain": [
       "'/media/axelle/afe8c733-963d-4db8-a2ee-551a0b73c9d7/Angel/PhD_projects/Homomer_duplication/PDB/unzipped/1sda.pdb'"
      ]
     },
     "execution_count": 33,
     "metadata": {},
     "output_type": "execute_result"
    }
   ],
   "source": [
    "pdb_file"
   ]
  },
  {
   "cell_type": "markdown",
   "metadata": {},
   "source": [
    "## Now use the file produced in the above loop to extract the sequences from the FASTA file with the whole PDB\n"
   ]
  },
  {
   "cell_type": "code",
   "execution_count": 25,
   "metadata": {},
   "outputs": [
    {
     "name": "stdout",
     "output_type": "stream",
     "text": [
      "['4z5z', '1a72', '4rfp']\n",
      "12723\n"
     ]
    }
   ],
   "source": [
    "# Load a list with all the files from the folder\n",
    "pdb_list = glob.glob('../../Data/PDB/Homodimers/*.pdb')\n",
    "\n",
    "# Extract the PDB IDs\n",
    "pdb_list = [entry.split('/')[-1][0:4] for entry in pdb_list]\n",
    "\n",
    "print(pdb_list[0:3])\n",
    "print(len(pdb_list))\n",
    "\n",
    "pdb_dict = {}\n",
    "\n",
    "# Convert the list to a dictionary\n",
    "for entry in pdb_list:\n",
    "    pdb_dict[entry] = 1\n"
   ]
  },
  {
   "cell_type": "code",
   "execution_count": 26,
   "metadata": {
    "collapsed": true
   },
   "outputs": [],
   "source": [
    "# Open the fasta file with all the sequences\n",
    "whole_pdb = SeqIO.parse('../../Data/PDB/pdb_seqres_2021-03-29.txt', 'fasta')\n",
    "\n",
    "records = []\n",
    "\n",
    "for entry in whole_pdb:\n",
    "    \n",
    "    # Split the description to make sure we are looking at proteins\n",
    "    metadata = entry.description.split(' ')\n",
    "    seq_moltype = metadata[1]\n",
    "    \n",
    "    seq_id = entry.id[0:4]\n",
    "    \n",
    "    # Check if this entry is in the dictionary\n",
    "    if pdb_dict.get(seq_id, -1) != -1:\n",
    "        # Check if the entry has yet to be added and make sure the moltype is a protein\n",
    "        if pdb_dict[seq_id] == 1 and seq_moltype == 'mol:protein':\n",
    "            # Add the entry to a list of records to be written to a new file\n",
    "            records.append(entry)\n",
    "            \n",
    "            # Mark this entry in the dictionary so that we don't add it again (since they\n",
    "            # are homodimers I only need one copy of the sequence)\n",
    "            pdb_dict[seq_id] = 0\n",
    "            "
   ]
  },
  {
   "cell_type": "code",
   "execution_count": 31,
   "metadata": {
    "scrolled": true
   },
   "outputs": [
    {
     "data": {
      "text/plain": [
       "12721"
      ]
     },
     "execution_count": 31,
     "metadata": {},
     "output_type": "execute_result"
    }
   ],
   "source": [
    "len(records)"
   ]
  },
  {
   "cell_type": "code",
   "execution_count": 29,
   "metadata": {},
   "outputs": [
    {
     "name": "stdout",
     "output_type": "stream",
     "text": [
      "5dqx\n",
      "7lj6\n"
     ]
    }
   ],
   "source": [
    "list_records = []\n",
    "for entry in records:\n",
    "    list_records.append(entry.id[0:4])\n",
    "    \n",
    "for entry in pdb_list:\n",
    "    if not entry in list_records:\n",
    "        print(entry)"
   ]
  },
  {
   "cell_type": "markdown",
   "metadata": {},
   "source": [
    "Records 5dqx and 7lj6 are obsolete entries, so they were discarded."
   ]
  },
  {
   "cell_type": "code",
   "execution_count": 33,
   "metadata": {},
   "outputs": [
    {
     "data": {
      "text/plain": [
       "12721"
      ]
     },
     "execution_count": 33,
     "metadata": {},
     "output_type": "execute_result"
    }
   ],
   "source": [
    "# Write the records to a new file\n",
    "SeqIO.write(records, '../../Data/PDB/pdb_seqres_2021-03-29_filtered.txt', 'fasta')"
   ]
  },
  {
   "cell_type": "markdown",
   "metadata": {},
   "source": [
    "# CD-Hit analysis\n",
    "\n",
    "This section will use CD-Hit to cluster the 104 final structures by sequence identity."
   ]
  },
  {
   "cell_type": "raw",
   "metadata": {},
   "source": [
    "## Use the following command  to generate the CD-Hit clusters\n",
    "\n",
    "\n",
    "## Load CD-HIT\n",
    "module load cd-hit/4.8.1\n",
    "\n",
    "## Run CD-Hit with all the sequences from the PDB as of March 29th, 2021\n",
    "# -i input file\n",
    "# -o output file prefix (fasta representative sequences, text file of clusters)\n",
    "# -n word size (3 is recommended in the user guide for thresholds of 0.5 - 0.6)\n",
    "# -c sequence identity threshold (0.5)\n",
    "# -M max available memory in Mb \n",
    "# -G global alignment (1) or local alignment (0)\n",
    "# -s length difference cutoff (sequences have to be at least this fraction of the length of the representative to be in the cluster)\n",
    "# -T number of threads\n",
    "\n",
    "cd-hit -i ../Data/pdb_seqres_filtered_new.txt -o Results_c0.4_new/pdb_seqres_filtered_cdhit_40pct_new -n 2 -c 0.4 -M 8000 -G 1 -s 0.8 -T 5\n"
   ]
  },
  {
   "cell_type": "code",
   "execution_count": null,
   "metadata": {
    "collapsed": true
   },
   "outputs": [],
   "source": [
    "# Load libraries\n",
    "import numpy as np\n",
    "import pandas as pd\n",
    "import os\n",
    "import sys\n",
    "import re"
   ]
  },
  {
   "cell_type": "code",
   "execution_count": null,
   "metadata": {
    "collapsed": true
   },
   "outputs": [],
   "source": [
    "## Read the list of PDB structures\n",
    "list_structures = pd.read_csv('../../Data/final_104_structures.txt', names = ['Complex'])\n",
    "list_structures\n"
   ]
  },
  {
   "cell_type": "code",
   "execution_count": null,
   "metadata": {
    "collapsed": true
   },
   "outputs": [],
   "source": [
    "## Load the CD-Hit clustering results (40% sequence identity)\n",
    "infile = '../../Data/CD-Hit/Results/Results_c0.4/pdb_seqres_filtered_cdhit_40pct.clstr'\n",
    "\n",
    "pdb2cluster_40pct = {}\n",
    "cluster = 0\n",
    "with open(infile, 'r') as handle:\n",
    "    for line in handle:\n",
    "\n",
    "        # Check current cluster\n",
    "        if line.startswith('>'):\n",
    "            cluster = int(re.search(string = line, pattern = '>Cluster (\\d+)').group(1))\n",
    "        else:\n",
    "            # Extract all the protein sequences\n",
    "            pdb_id = re.search(string = line, pattern = '>(.*)_').group(1)\n",
    "\n",
    "            # Add each to the dictionary\n",
    "            pdb2cluster_40pct[pdb_id] = cluster\n",
    "            "
   ]
  },
  {
   "cell_type": "code",
   "execution_count": null,
   "metadata": {
    "collapsed": true
   },
   "outputs": [],
   "source": [
    "list_structures['cluster_40pct'] = [pdb2cluster_40pct.get(pdb, 'NA') for pdb in list_structures['Complex']]\n",
    "\n",
    "list_structures"
   ]
  },
  {
   "cell_type": "code",
   "execution_count": null,
   "metadata": {
    "collapsed": true
   },
   "outputs": [],
   "source": [
    "list_structures['cluster_40pct'].value_counts()"
   ]
  },
  {
   "cell_type": "code",
   "execution_count": null,
   "metadata": {
    "collapsed": true
   },
   "outputs": [],
   "source": []
  }
 ],
 "metadata": {
  "kernelspec": {
   "display_name": "python3.8",
   "language": "python",
   "name": "python3.8"
  },
  "language_info": {
   "codemirror_mode": {
    "name": "ipython",
    "version": 3
   },
   "file_extension": ".py",
   "mimetype": "text/x-python",
   "name": "python",
   "nbconvert_exporter": "python",
   "pygments_lexer": "ipython3",
   "version": "3.8.5"
  }
 },
 "nbformat": 4,
 "nbformat_minor": 2
}
